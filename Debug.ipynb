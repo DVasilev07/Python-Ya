{
 "cells": [
  {
   "cell_type": "markdown",
   "metadata": {},
   "source": [
    "## Debug "
   ]
  },
  {
   "cell_type": "markdown",
   "metadata": {},
   "source": [
    "#### When the debugger reaches the Tracer()() line, a small line to type in commands will appear under your cell."
   ]
  },
  {
   "cell_type": "code",
   "execution_count": null,
   "metadata": {
    "collapsed": false
   },
   "outputs": [],
   "source": [
    "def test_debug(y):\n",
    "    x = 10\n",
    "    # One-liner to start the debugger here.\n",
    "    from IPython.core.debugger import Tracer; Tracer()()\n",
    "    x = x + y \t \n",
    " \n",
    "    for i in range(10):\n",
    "        x = x+i\n",
    "    #Tracer()()\n",
    "    return x\n",
    " \n",
    "test_debug(10)"
   ]
  },
  {
   "cell_type": "code",
   "execution_count": null,
   "metadata": {
    "collapsed": true
   },
   "outputs": [],
   "source": [
    "#As of Sept 2017 this has been deprecated. You’d now use\n",
    "from IPython.core.debugger import Pdb; Pdb().set_trace()"
   ]
  }
 ],
 "metadata": {
  "kernelspec": {
   "display_name": "Python 2",
   "language": "python",
   "name": "python2"
  },
  "language_info": {
   "codemirror_mode": {
    "name": "ipython",
    "version": 2
   },
   "file_extension": ".py",
   "mimetype": "text/x-python",
   "name": "python",
   "nbconvert_exporter": "python",
   "pygments_lexer": "ipython2",
   "version": "2.7.13"
  }
 },
 "nbformat": 4,
 "nbformat_minor": 2
}
