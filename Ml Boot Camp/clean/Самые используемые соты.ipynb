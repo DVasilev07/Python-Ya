{
 "cells": [
  {
   "cell_type": "code",
   "execution_count": 30,
   "metadata": {
    "collapsed": true
   },
   "outputs": [],
   "source": [
    "import pandas as pd\n",
    "import numpy as np\n",
    "import sklearn \n"
   ]
  },
  {
   "cell_type": "code",
   "execution_count": 31,
   "metadata": {
    "collapsed": true
   },
   "outputs": [],
   "source": [
    "#Считываем\n",
    "#E:\\HL Boot champ\\data\n",
    "fname = r'E:\\HL Boot champ\\data\\test\\subs_bs_consumption_test.csv'\n",
    "fname2 = r'E:\\HL Boot champ\\data\\train\\subs_bs_consumption_train.csv'\n",
    "subs_cons = pd.read_csv(fname,';',decimal=',')\n",
    "\n",
    "subs_cons_train = pd.read_csv(fname2,';',decimal=',')"
   ]
  },
  {
   "cell_type": "markdown",
   "metadata": {},
   "source": [
    "\n",
    "### ВЫявим соты макс использования по интернетам"
   ]
  },
  {
   "cell_type": "code",
   "execution_count": 32,
   "metadata": {
    "collapsed": true
   },
   "outputs": [],
   "source": [
    "# Важный шаг - дальше идет отбор по упорядоченным значениям!!! \n",
    "# Воторое значеие определяет тип используемого ресурса - голос или интернет\n",
    "subs_cons = subs_cons.sort_values(['SK_ID','SUM_MINUTES'], ascending=False)"
   ]
  },
  {
   "cell_type": "code",
   "execution_count": null,
   "metadata": {
    "collapsed": true
   },
   "outputs": [],
   "source": [
    "# Важный шаг - дальше идет отбор по упорядоченным значениям!!!\n",
    "subs_cons = subs_cons.sort_values(['SK_ID','SUM_DATA_MB'], ascending=False)"
   ]
  },
  {
   "cell_type": "code",
   "execution_count": 25,
   "metadata": {
    "collapsed": true
   },
   "outputs": [],
   "source": [
    "# Важный шаг - дальше идет отбор по упорядоченным значениям!!!\n",
    "subs_cons_train = subs_cons_train.sort_values(['SK_ID','SUM_DATA_MB'], ascending=False)"
   ]
  },
  {
   "cell_type": "code",
   "execution_count": null,
   "metadata": {
    "collapsed": true
   },
   "outputs": [],
   "source": []
  },
  {
   "cell_type": "code",
   "execution_count": 24,
   "metadata": {
    "collapsed": false
   },
   "outputs": [],
   "source": [
    "#subs_cons.head(20)"
   ]
  },
  {
   "cell_type": "code",
   "execution_count": 9,
   "metadata": {
    "collapsed": false
   },
   "outputs": [],
   "source": [
    "a = subs_cons['CELL_LAC_ID'].loc[subs_cons['SK_ID'] == 9748]"
   ]
  },
  {
   "cell_type": "code",
   "execution_count": 12,
   "metadata": {
    "collapsed": false
   },
   "outputs": [
    {
     "data": {
      "text/plain": [
       "1017536    341027\n",
       "280947     112284\n",
       "1017518    112284\n",
       "1017529    323638\n",
       "1017546    220725\n",
       "1017496    151705\n",
       "1017493    174438\n",
       "280950     358586\n",
       "1017502     34147\n",
       "280944      21276\n",
       "Name: CELL_LAC_ID, dtype: int64"
      ]
     },
     "execution_count": 12,
     "metadata": {},
     "output_type": "execute_result"
    }
   ],
   "source": [
    "a[0:10]"
   ]
  },
  {
   "cell_type": "code",
   "execution_count": 17,
   "metadata": {
    "collapsed": false
   },
   "outputs": [
    {
     "data": {
      "text/plain": [
       "array([341027, 112284, 323638, 220725, 151705], dtype=int64)"
      ]
     },
     "execution_count": 17,
     "metadata": {},
     "output_type": "execute_result"
    }
   ],
   "source": [
    "a[0:10].unique()[:5]"
   ]
  },
  {
   "cell_type": "code",
   "execution_count": null,
   "metadata": {
    "collapsed": false
   },
   "outputs": [],
   "source": [
    "%%time\n",
    "columns = ['SK_ID','CELL_LAC_ID']\n",
    "best_cons_array_v = []\n",
    "n = 5\n",
    "for i in range(len(subs_cons['SK_ID'])):\n",
    "    ser = subs_cons['CELL_LAC_ID'].loc[subs_cons['SK_ID'] == i]\n",
    "    cells = ser[0:10].unique()[:n]\n",
    "    for j in range(len(cells)):\n",
    "        row = [i,cells[j]]\n",
    "        best_cons_array_v.append(row) \n",
    "\n",
    "best_cons_v = pd.DataFrame(best_cons_array_d, columns=columns)"
   ]
  },
  {
   "cell_type": "code",
   "execution_count": 26,
   "metadata": {
    "collapsed": false
   },
   "outputs": [
    {
     "name": "stdout",
     "output_type": "stream",
     "text": [
      "Wall time: 56min 59s\n"
     ]
    }
   ],
   "source": [
    "%%time\n",
    "columns = ['SK_ID','CELL_LAC_ID']\n",
    "best_cons_array_d_train = []\n",
    "n = 5\n",
    "for i in range(len(subs_cons_train['SK_ID'])):\n",
    "    ser = subs_cons_train['CELL_LAC_ID'].loc[subs_cons_train['SK_ID'] == i]\n",
    "    cells = ser[0:10].unique()[:n]\n",
    "    for j in range(len(cells)):\n",
    "        row = [i,cells[j]]\n",
    "        best_cons_array_d_train.append(row) \n",
    "\n",
    "best_cons_d_train = pd.DataFrame(best_cons_array_d_train, columns=columns)"
   ]
  },
  {
   "cell_type": "code",
   "execution_count": 21,
   "metadata": {
    "collapsed": false
   },
   "outputs": [
    {
     "data": {
      "text/html": [
       "<div>\n",
       "<style scoped>\n",
       "    .dataframe tbody tr th:only-of-type {\n",
       "        vertical-align: middle;\n",
       "    }\n",
       "\n",
       "    .dataframe tbody tr th {\n",
       "        vertical-align: top;\n",
       "    }\n",
       "\n",
       "    .dataframe thead th {\n",
       "        text-align: right;\n",
       "    }\n",
       "</style>\n",
       "<table border=\"1\" class=\"dataframe\">\n",
       "  <thead>\n",
       "    <tr style=\"text-align: right;\">\n",
       "      <th></th>\n",
       "      <th>SK_ID</th>\n",
       "      <th>CELL_LAC_ID</th>\n",
       "    </tr>\n",
       "  </thead>\n",
       "  <tbody>\n",
       "    <tr>\n",
       "      <th>0</th>\n",
       "      <td>1</td>\n",
       "      <td>347122</td>\n",
       "    </tr>\n",
       "    <tr>\n",
       "      <th>1</th>\n",
       "      <td>1</td>\n",
       "      <td>121312</td>\n",
       "    </tr>\n",
       "    <tr>\n",
       "      <th>2</th>\n",
       "      <td>1</td>\n",
       "      <td>85550</td>\n",
       "    </tr>\n",
       "    <tr>\n",
       "      <th>3</th>\n",
       "      <td>1</td>\n",
       "      <td>288251</td>\n",
       "    </tr>\n",
       "    <tr>\n",
       "      <th>4</th>\n",
       "      <td>1</td>\n",
       "      <td>35907</td>\n",
       "    </tr>\n",
       "  </tbody>\n",
       "</table>\n",
       "</div>"
      ],
      "text/plain": [
       "   SK_ID  CELL_LAC_ID\n",
       "0      1       347122\n",
       "1      1       121312\n",
       "2      1        85550\n",
       "3      1       288251\n",
       "4      1        35907"
      ]
     },
     "execution_count": 21,
     "metadata": {},
     "output_type": "execute_result"
    }
   ],
   "source": [
    "best_cons_d.head()"
   ]
  },
  {
   "cell_type": "code",
   "execution_count": 27,
   "metadata": {
    "collapsed": true
   },
   "outputs": [],
   "source": [
    "best_cons_d_train.to_csv('train_skid_cellid_d.csv',sep=';')"
   ]
  },
  {
   "cell_type": "code",
   "execution_count": null,
   "metadata": {
    "collapsed": true
   },
   "outputs": [],
   "source": []
  }
 ],
 "metadata": {
  "kernelspec": {
   "display_name": "Python 2",
   "language": "python",
   "name": "python2"
  },
  "language_info": {
   "codemirror_mode": {
    "name": "ipython",
    "version": 2
   },
   "file_extension": ".py",
   "mimetype": "text/x-python",
   "name": "python",
   "nbconvert_exporter": "python",
   "pygments_lexer": "ipython2",
   "version": "2.7.13"
  }
 },
 "nbformat": 4,
 "nbformat_minor": 2
}
