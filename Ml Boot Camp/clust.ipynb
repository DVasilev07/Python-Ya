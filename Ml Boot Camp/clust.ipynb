{
 "cells": [
  {
   "cell_type": "code",
   "execution_count": null,
   "metadata": {
    "collapsed": true
   },
   "outputs": [],
   "source": [
    "import pandas as pd\n",
    "import numpy as np\n",
    "import sklearn \n",
    "from sklearn import feature_selection\n",
    "import matplotlib.pyplot as plt\n",
    "from sklearn.cluster.hierarchical import AgglomerativeClustering"
   ]
  },
  {
   "cell_type": "code",
   "execution_count": null,
   "metadata": {
    "collapsed": true
   },
   "outputs": [],
   "source": [
    "#Считываем\n",
    "cell_d_columns = ['T_DATE','CELL_LAC_ID', 'ERAB_PS_BLOCKING_RATE_LTE','ERAB_PS_DROP_RATE_LTE','RAB_PS_BLOCKING_RATE_3G',\n",
    "              'RAB_PS_DROP_RATE_3G','TBF_DROP_RATE_2G']\n",
    "cell_d = pd.read_csv('bs_avg_kpi.csv',';',decimal=',',parse_dates=['T_DATE'],usecols = cell_d_columns)\n",
    "\n",
    "# Работа с форматом day.month\n",
    "ar = np.array(cell_d['T_DATE'])\n",
    "month_ar = []\n",
    "day_ar = []\n",
    "for i in range(len(ar)):\n",
    "    month = ar[i][3:5]\n",
    "    day = ar[i][0:2]\n",
    "    month_ar.append(month)\n",
    "    day_ar.append(day)\n",
    "    \n",
    "cell_d['month'] = month_ar\n",
    "cell_d['day'] = day_ar\n",
    "cell_d.sort_values(['CELL_LAC_ID','month','day'])\n",
    "\n",
    "# Чистим пустое\n",
    "\n",
    "cell_d_nan = cell_d[['ERAB_PS_BLOCKING_RATE_LTE','ERAB_PS_DROP_RATE_LTE','RAB_PS_BLOCKING_RATE_3G',\n",
    "              'RAB_PS_DROP_RATE_3G','TBF_DROP_RATE_2G']]\n",
    "cell_d_nan = cell_d_nan.fillna(0)\n",
    "array = np.array(cell_d)\n",
    "\n",
    "# Кластеризация сот по интернетам\n",
    "model = AgglomerativeClustering(n_clusters=3)\n",
    "preds_bad_d_cells = model.fit_predict(array)"
   ]
  }
 ],
 "metadata": {
  "kernelspec": {
   "display_name": "Python 2",
   "language": "python",
   "name": "python2"
  },
  "language_info": {
   "codemirror_mode": {
    "name": "ipython",
    "version": 2
   },
   "file_extension": ".py",
   "mimetype": "text/x-python",
   "name": "python",
   "nbconvert_exporter": "python",
   "pygments_lexer": "ipython2",
   "version": "2.7.13"
  }
 },
 "nbformat": 4,
 "nbformat_minor": 2
}
